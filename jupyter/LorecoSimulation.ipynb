{
 "cells": [
  {
   "cell_type": "markdown",
   "metadata": {},
   "source": [
    "# LoREco simulation output\n",
    "\n"
   ]
  },
  {
   "cell_type": "code",
   "execution_count": null,
   "metadata": {},
   "outputs": [],
   "source": [
    "include(\"../backend/simulation.jl\")\n",
    "\n",
    "BASIC_SUMSY = SuMSy(2000, 0, 0.01, 1)\n",
    "\n",
    "using Plots"
   ]
  },
  {
   "cell_type": "code",
   "execution_count": null,
   "metadata": {},
   "outputs": [],
   "source": [
    "# data = run_simulation(BASIC_SUMSY, \"../sim_configurations/abm_test_config.json\", 1000)\n",
    "# data = run_simulation(BASIC_SUMSY, \"../sim_configurations/loreco_baseline.json\", 1000)\n",
    "# data = run_simulation(BASIC_SUMSY, \"../sim_configurations/loreco_baseline_plus_gemeente.json\", 1000)\n",
    "# data = run_simulation(BASIC_SUMSY, \"../sim_configurations/loreco_baseline_plus_vereniging.json\", 1000)\n",
    "data = run_simulation(BASIC_SUMSY, \"../sim_configurations/loreco_baseline_plus_vereniging_plus_gemeente.json\", 1000)\n",
    "plot(analyse_money_stock(data)[!, :money_stock], label = \"Money stock\", title = \"Money stock\", legend = :bottomright)"
   ]
  },
  {
   "cell_type": "code",
   "execution_count": null,
   "metadata": {},
   "outputs": [],
   "source": [
    "wealth = analyse_wealth(data)\n",
    "\n",
    "if haskey(wealth, :merchant)\n",
    "    plot(wealth[:merchant].poorest, label = \"min\", legend = :bottomright, title = \"Merchants\")\n",
    "    plot!(wealth[:merchant].average, label = \"average\", legend = :bottomright)\n",
    "    plot!(wealth[:merchant].richest, label = \"max\", legend = :bottomright)\n",
    "end"
   ]
  },
  {
   "cell_type": "code",
   "execution_count": null,
   "metadata": {},
   "outputs": [],
   "source": [
    "if haskey(wealth, :association_groot)\n",
    "    wealth = analyse_wealth(data)\n",
    "    plot(wealth[:association_groot].poorest, label = \"min\", legend = :bottomright, title = \"Large associations 1\")\n",
    "    plot!(wealth[:association_groot].average, label = \"average\", legend = :bottomright)\n",
    "    plot!(wealth[:association_groot].richest, label = \"max\", legend = :bottomright)\n",
    "end"
   ]
  },
  {
   "cell_type": "code",
   "execution_count": null,
   "metadata": {},
   "outputs": [],
   "source": [
    "if haskey(wealth, :association_groot2)\n",
    "    wealth = analyse_wealth(data)\n",
    "    plot(wealth[:association_groot2].poorest, label = \"min\", legend = :bottomright, title = \"Large associations 2\")\n",
    "    plot!(wealth[:association_groot2].average, label = \"average\", legend = :bottomright)\n",
    "    plot!(wealth[:association_groot2].richest, label = \"max\", legend = :bottomright)\n",
    "end"
   ]
  },
  {
   "cell_type": "code",
   "execution_count": null,
   "metadata": {},
   "outputs": [],
   "source": [
    "if haskey(wealth, :association_klein)\n",
    "    wealth = analyse_wealth(data)\n",
    "    plot(wealth[:association_klein].poorest, label = \"min\", legend = :bottomright, title = \"Small associations\")\n",
    "    plot!(wealth[:association_klein].average, label = \"average\", legend = :bottomright)\n",
    "    plot!(wealth[:association_klein].richest, label = \"max\", legend = :bottomright)\n",
    "end"
   ]
  },
  {
   "cell_type": "code",
   "execution_count": null,
   "metadata": {},
   "outputs": [],
   "source": [
    "if haskey(wealth, :beneficiary)\n",
    "    wealth = analyse_wealth(data)\n",
    "    plot(wealth[:beneficiary].poorest, label = \"min\", legend = :bottomright, title = \"Beneficiaries\")\n",
    "    plot!(wealth[:beneficiary].average, label = \"average\", legend = :bottomright)\n",
    "    plot!(wealth[:beneficiary].richest, label = \"max\", legend = :bottomright)\n",
    "end"
   ]
  },
  {
   "cell_type": "code",
   "execution_count": null,
   "metadata": {},
   "outputs": [],
   "source": [
    "if haskey(wealth, :non_beneficiary)\n",
    "    wealth = analyse_wealth(data)\n",
    "    plot(wealth[:non_beneficiary].poorest, label = \"min\", legend = :bottomright, title = \"Non-beneficiaries\")\n",
    "    plot!(wealth[:non_beneficiary].average, label = \"average\", legend = :bottomright)\n",
    "    plot!(wealth[:non_beneficiary].richest, label = \"max\", legend = :bottomright)\n",
    "end"
   ]
  },
  {
   "cell_type": "code",
   "execution_count": null,
   "metadata": {},
   "outputs": [],
   "source": [
    "if haskey(wealth, :gemeente)\n",
    "    wealth = analyse_wealth(data)\n",
    "    plot(wealth[:gemeente].average, label = \"reserve\", legend = :bottomright, title = \"Governance\")\n",
    "end"
   ]
  },
  {
   "cell_type": "code",
   "execution_count": null,
   "metadata": {},
   "outputs": [],
   "source": [
    "transaction_data = analyse_transaction_data(data)\n",
    "\n",
    "if haskey(transaction_data, :merchant)\n",
    "    plot(transaction_data[:merchant].min_transactions_in, label = \"Min transactions in\", legend = :bottomright, title = \"Merchant transactions\")\n",
    "    plot!(transaction_data[:merchant].average_transactions_in, label = \"Average transactions in\")\n",
    "    plot!(transaction_data[:merchant].max_transactions_in, label = \"Max transactions in\")\n",
    "end"
   ]
  },
  {
   "cell_type": "code",
   "execution_count": null,
   "metadata": {},
   "outputs": [],
   "source": [
    "if haskey(transaction_data, :merchant)\n",
    "    plot(transaction_data[:merchant].min_transaction_volume_in, label = \"Min in\", legend = :bottomright, title = \"Merchant income\")\n",
    "    plot!(transaction_data[:merchant].average_transaction_volume_in, label = \"Average in\")\n",
    "    plot!(transaction_data[:merchant].max_transaction_volume_in, label = \"Max in\")\n",
    "end"
   ]
  },
  {
   "cell_type": "code",
   "execution_count": null,
   "metadata": {},
   "outputs": [],
   "source": [
    "if haskey(transaction_data, :beneficiary)\n",
    "    plot(transaction_data[:beneficiary].min_transactions_in, label = \"Min transactions in\", legend = :bottomright, title = \"Beneficiary transactions\")\n",
    "    plot!(transaction_data[:beneficiary].average_transactions_in, label = \"Average transactions in\")\n",
    "    plot!(transaction_data[:beneficiary].max_transactions_in, label = \"Max transactions in\")\n",
    "end"
   ]
  },
  {
   "cell_type": "code",
   "execution_count": null,
   "metadata": {},
   "outputs": [],
   "source": [
    "if haskey(transaction_data, :beneficiary)\n",
    "    plot(transaction_data[:beneficiary].min_transaction_volume_in, label = \"Min in\", legend = :bottomright, title = \"Beneficiary income\")\n",
    "    plot!(transaction_data[:beneficiary].average_transaction_volume_in, label = \"Average in\")\n",
    "    plot!(transaction_data[:beneficiary].max_transaction_volume_in, label = \"Max in\")\n",
    "end"
   ]
  },
  {
   "cell_type": "code",
   "execution_count": null,
   "metadata": {},
   "outputs": [],
   "source": [
    "if haskey(transaction_data, :non_beneficiary)\n",
    "    plot(transaction_data[:non_beneficiary].min_transactions_in, label = \"Min transactions in\", legend = :bottomright, title = \"Non-beneficiary transactions\")\n",
    "    plot!(transaction_data[:non_beneficiary].average_transactions_in, label = \"Average transactions in\")\n",
    "    plot!(transaction_data[:non_beneficiary].max_transactions_in, label = \"Max transactions in\")\n",
    "end"
   ]
  },
  {
   "cell_type": "code",
   "execution_count": null,
   "metadata": {},
   "outputs": [],
   "source": [
    "if haskey(transaction_data, :non_beneficiary)\n",
    "    plot(transaction_data[:non_beneficiary].min_transaction_volume_in, label = \"Min in\", legend = :bottomright, title = \"Non-beneficiary income\")\n",
    "    plot!(transaction_data[:non_beneficiary].average_transaction_volume_in, label = \"Average in\")\n",
    "    plot!(transaction_data[:non_beneficiary].max_transaction_volume_in, label = \"Max in\")\n",
    "end"
   ]
  },
  {
   "cell_type": "code",
   "execution_count": null,
   "metadata": {},
   "outputs": [],
   "source": [
    "wealth_distribution, type_distribution = analyse_wealth_distribution(data)\n",
    "\n",
    "plot(wealth_distribution[:bottom_10], label = \"Bottom 10\", legend = :bottomright, title = \"Wealth distribution\")\n",
    "plot!(wealth_distribution[:low_40], label = \"Low 40\")\n",
    "plot!(wealth_distribution[:high_40], label = \"High 40\")\n",
    "plot!(wealth_distribution[:top_10], label = \"Top 10\")"
   ]
  },
  {
   "cell_type": "code",
   "execution_count": null,
   "metadata": {},
   "outputs": [],
   "source": [
    "plots = Dict()\n",
    "\n",
    "for tier in [:bottom_10, :low_40, :high_40, :top_10]\n",
    "    index = 1\n",
    "\n",
    "    for types in values(CATEGORY_DICT)\n",
    "        for type in types\n",
    "            if index == 1\n",
    "                plots[tier] = plot(type_distribution[tier][type], label = String(type), legend = :bottomright, title = \"Tier distribution - \" * String(tier))\n",
    "            else\n",
    "                plot!(plots[tier], type_distribution[tier][type], label = String(type), legend = :bottomright)\n",
    "            end\n",
    "\n",
    "            index += 1\n",
    "        end\n",
    "    end\n",
    "end\n",
    "\n",
    "plots[:bottom_10]"
   ]
  },
  {
   "cell_type": "code",
   "execution_count": null,
   "metadata": {},
   "outputs": [],
   "source": [
    "plots[:low_40]"
   ]
  },
  {
   "cell_type": "code",
   "execution_count": null,
   "metadata": {},
   "outputs": [],
   "source": [
    "plots[:high_40]"
   ]
  },
  {
   "cell_type": "code",
   "execution_count": null,
   "metadata": {},
   "outputs": [],
   "source": [
    "plots[:top_10]"
   ]
  }
 ],
 "metadata": {
  "kernelspec": {
   "display_name": "Julia 1.8.3",
   "language": "julia",
   "name": "julia-1.8"
  },
  "language_info": {
   "file_extension": ".jl",
   "mimetype": "application/julia",
   "name": "julia",
   "version": "1.8.3"
  },
  "orig_nbformat": 4
 },
 "nbformat": 4,
 "nbformat_minor": 2
}
